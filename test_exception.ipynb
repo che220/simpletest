{
 "cells": [
  {
   "cell_type": "code",
   "execution_count": 1,
   "metadata": {
    "collapsed": true
   },
   "outputs": [],
   "source": [
    "%config IPCompleter.greedy=True\n",
    "%matplotlib inline\n",
    "%load_ext autoreload\n",
    "%autoreload 2"
   ]
  },
  {
   "cell_type": "code",
   "execution_count": 30,
   "metadata": {},
   "outputs": [
    {
     "name": "stdout",
     "output_type": "stream",
     "text": [
      "Script dir: /home/hwang7/pcg_data_science\n",
      "ML root dir: /home/hwang7/pcg_data_science\n",
      "Data cache dir: /home/hwang7/spark_cache\n",
      "home dir: /home/hwang7\n",
      "Workspace dir: /home/hwang7/workspace\n",
      "Log dir: /home/hwang7/workspace/log\n",
      "DB file dir: /home/hwang7\n"
     ]
    }
   ],
   "source": [
    "import intuit_env"
   ]
  },
  {
   "cell_type": "code",
   "execution_count": 31,
   "metadata": {},
   "outputs": [],
   "source": [
    "try:\n",
    "    raise Exception(\"anything\")\n",
    "except:\n",
    "    lines = traceback.format_exc().splitlines()\n",
    "    msg = '\\n'.join(lines)\n",
    "    intuit_env.sendEmail(msg, 'test002', ['hui_wang@intuit.com', 'hui_wang@intuit.com'])"
   ]
  },
  {
   "cell_type": "code",
   "execution_count": 32,
   "metadata": {},
   "outputs": [
    {
     "data": {
      "text/plain": [
       "['hwang7', 'prodlsv1301']"
      ]
     },
     "execution_count": 32,
     "metadata": {},
     "output_type": "execute_result"
    }
   ],
   "source": [
    "[os.environ['USER'], socket.gethostname()]"
   ]
  },
  {
   "cell_type": "code",
   "execution_count": null,
   "metadata": {
    "collapsed": true
   },
   "outputs": [],
   "source": []
  }
 ],
 "metadata": {
  "kernelspec": {
   "display_name": "Python 3",
   "language": "python",
   "name": "python3"
  },
  "language_info": {
   "codemirror_mode": {
    "name": "ipython",
    "version": 3
   },
   "file_extension": ".py",
   "mimetype": "text/x-python",
   "name": "python",
   "nbconvert_exporter": "python",
   "pygments_lexer": "ipython3",
   "version": "3.6.1"
  }
 },
 "nbformat": 4,
 "nbformat_minor": 2
}
