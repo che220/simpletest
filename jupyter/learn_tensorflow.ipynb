{
 "cells": [
  {
   "cell_type": "code",
   "execution_count": 1,
   "metadata": {},
   "outputs": [],
   "source": [
    "%config IPCompleter.greedy=True\n",
    "%matplotlib inline"
   ]
  },
  {
   "cell_type": "code",
   "execution_count": 2,
   "metadata": {},
   "outputs": [
    {
     "name": "stderr",
     "output_type": "stream",
     "text": [
      "/home/hwang7/anaconda3/lib/python3.6/importlib/_bootstrap.py:219: RuntimeWarning: compiletime version 3.5 of module 'tensorflow.python.framework.fast_tensor_util' does not match runtime version 3.6\n",
      "  return f(*args, **kwds)\n"
     ]
    }
   ],
   "source": [
    "import tensorflow as tf\n",
    "import pandas as pd, numpy as np, os, sys\n",
    "import matplotlib\n",
    "import matplotlib.pyplot as plt\n",
    "from matplotlib.ticker import FuncFormatter\n",
    "from IPython.display import display, HTML\n",
    "from IPython.core.debugger import Tracer\n",
    "from IPython.core.debugger import Pdb\n",
    "\n",
    "font = {'size'   : 18}\n",
    "matplotlib.rc('font', **font)\n",
    "\n",
    "def plotHorizontalBars(series, xlabel, title):\n",
    "    xpos = np.arange(len(series.index), 0, -1)\n",
    "    plt.barh(xpos, series, align='center', alpha=0.5, color='g')\n",
    "    plt.grid(axis='x')\n",
    "    plt.yticks(xpos, series.index)\n",
    "    plt.xlabel(xlabel)\n",
    "    plt.title(title)\n",
    "\n",
    "def plotVerticalBars(series, ylabel, title):\n",
    "    xpos = np.arange(len(series.index), 0, -1)\n",
    "    plt.bar(xpos, series, align='center', alpha=0.5, color='g')\n",
    "    plt.grid(axis='y')\n",
    "    plt.xticks(xpos, series.index)\n",
    "    plt.ylabel(ylabel)\n",
    "    plt.title(title)"
   ]
  },
  {
   "cell_type": "code",
   "execution_count": 3,
   "metadata": {
    "collapsed": true
   },
   "outputs": [],
   "source": [
    "x = tf.Variable(3, name='x')\n",
    "y = tf.Variable(4, name='y')\n",
    "f = x*x*y + y + 2"
   ]
  },
  {
   "cell_type": "code",
   "execution_count": 4,
   "metadata": {},
   "outputs": [
    {
     "name": "stdout",
     "output_type": "stream",
     "text": [
      "42\n"
     ]
    }
   ],
   "source": [
    "sess = tf.Session()\n",
    "sess.run(x.initializer)\n",
    "sess.run(y.initializer)\n",
    "result = sess.run(f)\n",
    "print(result)\n",
    "sess.close()"
   ]
  },
  {
   "cell_type": "code",
   "execution_count": 5,
   "metadata": {},
   "outputs": [
    {
     "name": "stdout",
     "output_type": "stream",
     "text": [
      "42\n"
     ]
    }
   ],
   "source": [
    "with tf.Session() as sess:\n",
    "    x.initializer.run()\n",
    "    y.initializer.run()\n",
    "    result = f.eval()\n",
    "    print(result)"
   ]
  },
  {
   "cell_type": "code",
   "execution_count": 6,
   "metadata": {},
   "outputs": [
    {
     "name": "stdout",
     "output_type": "stream",
     "text": [
      "42\n"
     ]
    }
   ],
   "source": [
    "init = tf.global_variables_initializer()\n",
    "with tf.Session() as sess:\n",
    "    init.run()\n",
    "    result = f.eval()\n",
    "    print(result)"
   ]
  },
  {
   "cell_type": "code",
   "execution_count": 7,
   "metadata": {},
   "outputs": [
    {
     "name": "stdout",
     "output_type": "stream",
     "text": [
      "42\n"
     ]
    }
   ],
   "source": [
    "sess = tf.InteractiveSession()\n",
    "init.run()\n",
    "result = f.eval()\n",
    "print(result)\n",
    "sess.close()"
   ]
  },
  {
   "cell_type": "code",
   "execution_count": 8,
   "metadata": {},
   "outputs": [
    {
     "name": "stdout",
     "output_type": "stream",
     "text": [
      "True\n"
     ]
    }
   ],
   "source": [
    "x1 = tf.Variable(1)\n",
    "print(x1.graph is tf.get_default_graph())"
   ]
  },
  {
   "cell_type": "code",
   "execution_count": 9,
   "metadata": {},
   "outputs": [
    {
     "name": "stdout",
     "output_type": "stream",
     "text": [
      "True\n",
      "False\n"
     ]
    }
   ],
   "source": [
    "graph = tf.Graph()\n",
    "with graph.as_default():\n",
    "    x2 = tf.Variable(2)\n",
    "print(x2.graph is graph)\n",
    "print(x2.graph is tf.get_default_graph())\n",
    "tf.reset_default_graph()"
   ]
  },
  {
   "cell_type": "code",
   "execution_count": 10,
   "metadata": {},
   "outputs": [
    {
     "name": "stdout",
     "output_type": "stream",
     "text": [
      "[12, 21]\n"
     ]
    }
   ],
   "source": [
    "w = tf.constant(5)\n",
    "x = w+2\n",
    "y=x+5\n",
    "z=x*3\n",
    "with tf.Session() as sess:\n",
    "    yval, zval = sess.run([y,z])\n",
    "    print([yval, zval])"
   ]
  },
  {
   "cell_type": "code",
   "execution_count": 11,
   "metadata": {},
   "outputs": [
    {
     "name": "stdout",
     "output_type": "stream",
     "text": [
      "prepend a 1-column:\n",
      "[[   1.            8.3252       41.         ...,    2.55555556   37.88\n",
      "  -122.23      ]\n",
      " [   1.            8.3014       21.         ...,    2.10984183   37.86\n",
      "  -122.22      ]\n",
      " [   1.            7.2574       52.         ...,    2.80225989   37.85\n",
      "  -122.24      ]\n",
      " ..., \n",
      " [   1.            1.7          17.         ...,    2.3256351    39.43\n",
      "  -121.22      ]\n",
      " [   1.            1.8672       18.         ...,    2.12320917   39.43\n",
      "  -121.32      ]\n",
      " [   1.            2.3886       16.         ...,    2.61698113   39.37\n",
      "  -121.24      ]]\n"
     ]
    }
   ],
   "source": [
    "from sklearn.datasets import fetch_california_housing\n",
    "housing = fetch_california_housing()\n",
    "\n",
    "m,n=housing.data.shape\n",
    "print('prepend a 1-column:')\n",
    "housing_data_plus_bias = np.c_[np.ones((m, 1)), housing.data]\n",
    "print(housing_data_plus_bias)"
   ]
  },
  {
   "cell_type": "code",
   "execution_count": 12,
   "metadata": {},
   "outputs": [
    {
     "name": "stdout",
     "output_type": "stream",
     "text": [
      "[[ -3.74651413e+01]\n",
      " [  4.35734153e-01]\n",
      " [  9.33829229e-03]\n",
      " [ -1.06622010e-01]\n",
      " [  6.44106984e-01]\n",
      " [ -4.25131839e-06]\n",
      " [ -3.77322501e-03]\n",
      " [ -4.26648885e-01]\n",
      " [ -4.40514028e-01]]\n"
     ]
    }
   ],
   "source": [
    "X = tf.constant(housing_data_plus_bias, dtype = tf.float32, name =\"X\")\n",
    "y = tf.constant(housing.target.reshape(-1, 1), dtype = tf.float32, name =\"y\")\n",
    "XT = tf.transpose(X)\n",
    "theta = tf.matmul(tf.matmul(tf.matrix_inverse(tf.matmul(XT, X)), XT), y) \n",
    "with tf.Session() as sess: \n",
    "    theta_value = theta.eval()\n",
    "    print(theta_value)"
   ]
  },
  {
   "cell_type": "code",
   "execution_count": null,
   "metadata": {},
   "outputs": [],
   "source": [
    "n_epochs = 1000\n",
    "learning_rate = 0.01\n",
    "\n",
    "m,n=housing_data_plus_bias.shape\n",
    "x = tf.constant(housing_data_plus_bias, dtype = tf.float32, name =\"x\")\n",
    "y = tf.constant(housing.target.reshape(-1, 1), dtype = tf.float32, name =\"y\")\n",
    "\n",
    "# theta are the coefficients\n",
    "theta = tf.Variable(tf.random_uniform([n, 1], -1.0, 1.0))\n",
    "y_pred = tf.matmul(x, theta)\n",
    "mse = tf.reduce_sum(tf.square(y_pred - y))\n",
    "#gradients = 2/m * tf.matmul(tf.transpose(X), error)\n",
    "#gradients = tf.gradients(mse, [theta])[0]\n",
    "#training_op = tf.assign(theta, theta - learning_rate * gradients)\n",
    "optimizer = tf.train.GradientDescentOptimizer(learning_rate)\n",
    "training_op = optimizer.minimize(mse)\n",
    "\n",
    "init = tf.global_variables_initializer()\n",
    "with tf.Session() as sess:\n",
    "    sess.run(init)\n",
    "    print('x:')\n",
    "    print(x.eval())\n",
    "    print('y:')\n",
    "    print(y.eval())\n",
    "    print('y_pred:')\n",
    "    print(y_pred.eval())\n",
    "    print('theta:')\n",
    "    print(theta.eval())\n",
    "    for epoch in range(n_epochs):\n",
    "        print('epoch =', epoch)\n",
    "        print('Epoch', epoch, 'MSE =', mse.eval())\n",
    "        sess.run(training_op)\n",
    "    best_theta = theta.eval()\n",
    "    print('best theta:', best_theta)"
   ]
  },
  {
   "cell_type": "code",
   "execution_count": 20,
   "metadata": {},
   "outputs": [
    {
     "name": "stdout",
     "output_type": "stream",
     "text": [
      "[array([-0.9999969], dtype=float32), array([ 0.99999082], dtype=float32)]\n"
     ]
    }
   ],
   "source": [
    "logDir = '/home/hwang7/log'\n",
    "os.makedirs(logDir, exist_ok=True)\n",
    "\n",
    "with tf.name_scope('variables') as scope:\n",
    "    W = tf.Variable([.3], dtype=tf.float32)\n",
    "    b = tf.Variable([-.3], dtype=tf.float32)\n",
    "\n",
    "with tf.name_scope('inputs') as scope:\n",
    "    x = tf.placeholder(tf.float32)\n",
    "    y = tf.placeholder(tf.float32)\n",
    "with tf.name_scope('loss') as scope:\n",
    "    linear_model = W*x + b\n",
    "    squared_deltas = tf.square(linear_model - y)\n",
    "    loss = tf.reduce_sum(squared_deltas)\n",
    "with tf.name_scope('optimize') as scope:\n",
    "    optimizer = tf.train.GradientDescentOptimizer(0.01)\n",
    "    train = optimizer.minimize(loss)\n",
    "\n",
    "with tf.name_scope('graph_output') as scope:\n",
    "    from datetime import datetime\n",
    "    now = datetime.utcnow().strftime('%Y%m%d%H%M%S')\n",
    "    runLogDir = '{}/run-{}/'.format(logDir, now)\n",
    "\n",
    "    loss_summary = tf.summary.scalar('LOSS', loss)\n",
    "    file_writer = tf.summary.FileWriter(runLogDir, tf.get_default_graph())\n",
    "\n",
    "init = tf.global_variables_initializer()\n",
    "with tf.Session() as sess:\n",
    "    sess.run(init) # reset values to incorrect defaults.\n",
    "    for i in range(1000):\n",
    "        if i % 200 == 0:\n",
    "            summary_str = loss_summary.eval({x: [1, 2, 3, 4], y: [0, -1, -2, -3]})\n",
    "            file_writer.add_summary(summary_str, i/200)\n",
    "        sess.run(train, {x: [1, 2, 3, 4], y: [0, -1, -2, -3]})\n",
    "    print(sess.run([W, b]))\n",
    "\n",
    "file_writer.close()"
   ]
  },
  {
   "cell_type": "code",
   "execution_count": 21,
   "metadata": {},
   "outputs": [
    {
     "name": "stdout",
     "output_type": "stream",
     "text": [
      "loss_2/add\n",
      "loss_2/Square\n",
      "loss_2/Sum\n"
     ]
    }
   ],
   "source": [
    "print(linear_model.op.name)\n",
    "print(squared_deltas.op.name)\n",
    "print(loss.op.name)"
   ]
  },
  {
   "cell_type": "code",
   "execution_count": 67,
   "metadata": {},
   "outputs": [
    {
     "name": "stdout",
     "output_type": "stream",
     "text": [
      "(3, 1)\n",
      "(3, 1)\n",
      "(3, 1)\n",
      "(3, 1)\n",
      "(3, 1)\n",
      "[array([[ 4.60321331]], dtype=float32), array([[ 3.90952158]], dtype=float32), array([[ 0.7526083]], dtype=float32), array([[ 4.59001446]], dtype=float32), array([[ 5.51728725]], dtype=float32)]\n",
      "[[ 19.37264633]]\n"
     ]
    }
   ],
   "source": [
    "tf.reset_default_graph()\n",
    "def relu(x):\n",
    "    w_shape = (int(x.get_shape()[1]), 1)\n",
    "    print(w_shape)\n",
    "    w = tf.Variable(tf.random_normal(w_shape), name='weights')\n",
    "    b = tf.Variable(0.0, name='bias')\n",
    "    z = tf.add(tf.matmul(x, w), b, name='z')\n",
    "    return tf.maximum(z, 0.0, name='relu')\n",
    "\n",
    "n_features=3\n",
    "x = tf.placeholder(tf.float32, shape=(None, n_features), name='x')\n",
    "relus = [relu(x) for i in range(5)]\n",
    "output = tf.add_n(relus, name='output')\n",
    "\n",
    "init = tf.global_variables_initializer()\n",
    "xs = {x:[[1,2,3]]}\n",
    "with tf.Session() as sess:\n",
    "    sess.run(init)\n",
    "    print(sess.run(relus, xs))\n",
    "    print(output.eval(xs))"
   ]
  },
  {
   "cell_type": "code",
   "execution_count": null,
   "metadata": {
    "collapsed": true
   },
   "outputs": [],
   "source": []
  }
 ],
 "metadata": {
  "kernelspec": {
   "display_name": "Python 3",
   "language": "python",
   "name": "python3"
  },
  "language_info": {
   "codemirror_mode": {
    "name": "ipython",
    "version": 3
   },
   "file_extension": ".py",
   "mimetype": "text/x-python",
   "name": "python",
   "nbconvert_exporter": "python",
   "pygments_lexer": "ipython3",
   "version": "3.6.3"
  }
 },
 "nbformat": 4,
 "nbformat_minor": 2
}
