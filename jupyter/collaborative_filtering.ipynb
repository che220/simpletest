{
 "cells": [
  {
   "cell_type": "code",
   "execution_count": 1,
   "metadata": {},
   "outputs": [],
   "source": [
    "%config IPCompleter.greedy=True\n",
    "%matplotlib inline"
   ]
  },
  {
   "cell_type": "code",
   "execution_count": 2,
   "metadata": {},
   "outputs": [],
   "source": [
    "import pandas as pd, numpy as np, os, sys, cv2\n",
    "import matplotlib\n",
    "import matplotlib.pyplot as plt\n",
    "from IPython.display import display, HTML\n",
    "\n",
    "font = {'size'   : 18}\n",
    "matplotlib.rc('font', **font)"
   ]
  },
  {
   "cell_type": "code",
   "execution_count": 7,
   "metadata": {},
   "outputs": [
    {
     "name": "stdout",
     "output_type": "stream",
     "text": [
      "   user  movie  rating  timestamp\n",
      "0   196    242       3  881250949\n",
      "1   186    302       3  891717742\n",
      "2    22    377       1  878887116\n",
      "3   244     51       2  880606923\n",
      "4   166    346       1  886397596\n",
      "5   298    474       4  884182806\n",
      "6   115    265       2  881171488\n",
      "7   253    465       5  891628467\n",
      "8   305    451       3  886324817\n",
      "9     6     86       3  883603013\n",
      "(100000, 4)\n",
      "users: 943\n",
      "movies: 1682\n"
     ]
    }
   ],
   "source": [
    "data = pd.read_csv('movie_reviews.data', sep='\\t', header=None)\n",
    "data.columns = ['user', 'movie', 'rating', 'timestamp']\n",
    "print(data.head(10))\n",
    "print(data.shape)\n",
    "\n",
    "n_users = len(data.user.unique())\n",
    "n_items = len(data.movie.unique())\n",
    "print('users:', n_users)\n",
    "print('movies:', n_items)"
   ]
  },
  {
   "cell_type": "code",
   "execution_count": 9,
   "metadata": {},
   "outputs": [
    {
     "name": "stdout",
     "output_type": "stream",
     "text": [
      "[[5. 3. 4. ... 0. 0. 0.]\n",
      " [4. 0. 0. ... 0. 0. 0.]\n",
      " [0. 0. 0. ... 0. 0. 0.]\n",
      " [0. 0. 0. ... 0. 0. 0.]]\n"
     ]
    }
   ],
   "source": [
    "ratings = np.zeros((n_users, n_items))\n",
    "for row in data.itertuples():\n",
    "    ratings[row[1]-1, row[2]-1] = row[3]\n",
    "print(ratings[0:4, :])"
   ]
  },
  {
   "cell_type": "code",
   "execution_count": 12,
   "metadata": {},
   "outputs": [
    {
     "name": "stdout",
     "output_type": "stream",
     "text": [
      "Sparsity: 0.06304669364224531\n"
     ]
    }
   ],
   "source": [
    "sparsity = float(len(ratings.nonzero()[0]))\n",
    "sparsity /= (ratings.shape[0] * ratings.shape[1])\n",
    "print('Sparsity:', sparsity)"
   ]
  },
  {
   "cell_type": "code",
   "execution_count": 13,
   "metadata": {},
   "outputs": [],
   "source": [
    "def fast_similarity(ratings, kind='user', epsilon=1e-9):\n",
    "    # epsilon -> small number for handling dived-by-zero errors\n",
    "    if kind == 'user':\n",
    "        sim = ratings.dot(ratings.T) + epsilon\n",
    "    elif kind == 'item':\n",
    "        sim = ratings.T.dot(ratings) + epsilon\n",
    "    norms = np.array([np.sqrt(np.diagonal(sim))])\n",
    "    return (sim / norms / norms.T)"
   ]
  },
  {
   "cell_type": "code",
   "execution_count": 24,
   "metadata": {},
   "outputs": [
    {
     "name": "stdout",
     "output_type": "stream",
     "text": [
      "(943, 943)\n",
      "(1, 943)\n"
     ]
    }
   ],
   "source": [
    "mat = ratings.dot(ratings.T)\n",
    "print(mat.shape)\n",
    "diag = np.array([np.sqrt(np.diagonal(mat))])\n",
    "print(diag.shape)"
   ]
  },
  {
   "cell_type": "code",
   "execution_count": 29,
   "metadata": {},
   "outputs": [
    {
     "name": "stdout",
     "output_type": "stream",
     "text": [
      "(943, 1)\n",
      "[[63.07138812 30.29851482 22.38302929 21.67948339 42.05948169 54.90901565\n",
      "  82.41359111 30.65941943 20.49390153 57.6020833 ]] [[63.07138812]\n",
      " [30.29851482]\n",
      " [22.38302929]\n",
      " [21.67948339]\n",
      " [42.05948169]\n",
      " [54.90901565]\n",
      " [82.41359111]\n",
      " [30.65941943]\n",
      " [20.49390153]\n",
      " [57.6020833 ]]\n"
     ]
    }
   ],
   "source": [
    "print(diag.T.shape)\n",
    "print(diag[:, 0:10], diag.T[0:10])"
   ]
  },
  {
   "cell_type": "code",
   "execution_count": 28,
   "metadata": {},
   "outputs": [
    {
     "name": "stdout",
     "output_type": "stream",
     "text": [
      "[[3978.  319.   67.   88. 1004. 1490. 2289.  617.  101. 1368.]\n",
      " [ 319.  918.   75.  117.   93.  409.  268.   96.  100.  279.]\n",
      " [  67.   75.  501.  167.   20.   89.  122.   57.   28.   84.]\n",
      " [  88.  117.  167.  470.   29.   81.  163.  125.   45.   76.]\n",
      " [1004.   93.   20.   29. 1769.  548. 1295.  321.   49.  488.]\n",
      " [1490.  409.   89.   81.  548. 3015. 2214.  339.  207. 1745.]\n",
      " [2289.  268.  122.  163. 1295. 2214. 6792.  720.  246. 2312.]\n",
      " [ 617.   96.   57.  125.  321.  339.  720.  940.   54.  412.]\n",
      " [ 101.  100.   28.   45.   49.  207.  246.   54.  420.  234.]\n",
      " [1368.  279.   84.   76.  488. 1745. 2312.  412.  234. 3318.]]\n",
      "(943, 943)\n",
      "[[63.07138812 10.52856887  2.99333925  4.05913732 23.87095513 27.13579878\n",
      "  27.77454506 20.12432105  4.92829537 23.74914103]\n",
      " [ 5.05776089 30.29851482  3.35075289  5.39680757  2.21115421  7.44868571\n",
      "   3.25189082  3.13117475  4.87950036  4.84357482]\n",
      " [ 1.06228834  2.47536886 22.38302929  7.70313559  0.47551703  1.62086315\n",
      "   1.48033836  1.85913501  1.3662601   1.45828059]\n",
      " [ 1.39524438  3.86157542  7.46100976 21.67948339  0.6894997   1.47516758\n",
      "   1.97782912  4.07705046  2.19577516  1.31939672]\n",
      " [15.91847     3.06945738  0.8935341   1.33767025 42.05948169  9.98014613\n",
      "  15.71342763 10.46986557  2.39095518  8.47191581]\n",
      " [23.62402421 13.4990115   3.97622676  3.73625139 13.02916674 54.90901565\n",
      "  26.86450099 11.05696084 10.10056576 30.2940432 ]\n",
      " [36.292209    8.84531805  5.45055803  7.51862935 30.78972798 40.32124732\n",
      "  82.41359111 23.48381063 12.0035709  40.13743718]\n",
      " [ 9.78256573  3.16847214  2.54657219  5.76582005  7.6320484   6.17384952\n",
      "   8.73642309 30.65941943  2.6349302   7.15251908]\n",
      " [ 1.60136003  3.30049181  1.25094774  2.07569522  1.16501673  3.76987272\n",
      "   2.98494455  1.7612858  20.49390153  4.06235307]\n",
      " [21.68970813  9.20837215  3.75284323  3.50561859 11.60261564 31.77984488\n",
      "  28.05362524 13.4379583  11.41803085 57.6020833 ]]\n"
     ]
    }
   ],
   "source": [
    "print(mat[0:10, 0:10])\n",
    "a = mat/diag\n",
    "print(a.shape)\n",
    "print(a[0:10, 0:10])"
   ]
  },
  {
   "cell_type": "code",
   "execution_count": 31,
   "metadata": {},
   "outputs": [
    {
     "name": "stdout",
     "output_type": "stream",
     "text": [
      "(943, 943)\n",
      "[[1.         0.16693098 0.04745954 0.06435782 0.37847518 0.43023944\n",
      "  0.4403668  0.31907211 0.07813837 0.37654381]\n",
      " [0.16693098 1.         0.11059132 0.17812119 0.07297896 0.24584326\n",
      "  0.10732839 0.10334417 0.16104751 0.15986179]\n",
      " [0.04745954 0.11059132 1.         0.34415072 0.02124453 0.07241482\n",
      "  0.06613664 0.08306003 0.06104    0.06515117]\n",
      " [0.06435782 0.17812119 0.34415072 1.         0.03180425 0.06804441\n",
      "  0.09123045 0.18806031 0.10128356 0.06085923]\n",
      " [0.37847518 0.07297896 0.02124453 0.03180425 1.         0.23728647\n",
      "  0.37360013 0.24892997 0.056847   0.20142701]\n",
      " [0.43023944 0.24584326 0.07241482 0.06804441 0.23728647 1.\n",
      "  0.48925483 0.20136877 0.18395095 0.55171346]\n",
      " [0.4403668  0.10732839 0.06613664 0.09123045 0.37360013 0.48925483\n",
      "  1.         0.2849507  0.14565038 0.48702449]\n",
      " [0.31907211 0.10334417 0.08306003 0.18806031 0.24892997 0.20136877\n",
      "  0.2849507  1.         0.08594195 0.23328945]\n",
      " [0.07813837 0.16104751 0.06104    0.10128356 0.056847   0.18395095\n",
      "  0.14565038 0.08594195 1.         0.19822253]\n",
      " [0.37654381 0.15986179 0.06515117 0.06085923 0.20142701 0.55171346\n",
      "  0.48702449 0.23328945 0.19822253 1.        ]]\n"
     ]
    }
   ],
   "source": [
    "sim = a/diag.T\n",
    "print(sim.shape)\n",
    "print(sim[0:10, 0:10])"
   ]
  },
  {
   "cell_type": "code",
   "execution_count": null,
   "metadata": {},
   "outputs": [],
   "source": []
  }
 ],
 "metadata": {
  "kernelspec": {
   "display_name": "Python 3",
   "language": "python",
   "name": "python3"
  },
  "language_info": {
   "codemirror_mode": {
    "name": "ipython",
    "version": 3
   },
   "file_extension": ".py",
   "mimetype": "text/x-python",
   "name": "python",
   "nbconvert_exporter": "python",
   "pygments_lexer": "ipython3",
   "version": "3.6.8"
  }
 },
 "nbformat": 4,
 "nbformat_minor": 2
}
