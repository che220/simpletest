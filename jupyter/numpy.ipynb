{
 "cells": [
  {
   "cell_type": "code",
   "execution_count": 1,
   "metadata": {},
   "outputs": [],
   "source": [
    "%config IPCompleter.greedy=True\n",
    "%matplotlib inline"
   ]
  },
  {
   "cell_type": "code",
   "execution_count": 146,
   "metadata": {},
   "outputs": [],
   "source": [
    "import pandas as pd, numpy as np, os, sys\n",
    "import matplotlib\n",
    "import matplotlib.pyplot as plt\n",
    "from matplotlib.ticker import FuncFormatter\n",
    "from IPython.display import display, HTML\n",
    "from IPython.core.debugger import Tracer\n",
    "from IPython.core.debugger import Pdb\n",
    "\n",
    "font = {'size'   : 18}\n",
    "matplotlib.rc('font', **font)\n",
    "\n",
    "def plotHorizontalBars(series, xlabel, title):\n",
    "    xpos = np.arange(len(series.index), 0, -1)\n",
    "    plt.barh(xpos, series, align='center', alpha=0.5, color='g')\n",
    "    plt.grid(axis='x')\n",
    "    plt.yticks(xpos, series.index)\n",
    "    plt.xlabel(xlabel)\n",
    "    plt.title(title)\n",
    "\n",
    "def plotVerticalBars(series, ylabel, title):\n",
    "    xpos = np.arange(len(series.index), 0, -1)\n",
    "    plt.bar(xpos, series, align='center', alpha=0.5, color='g')\n",
    "    plt.grid(axis='y')\n",
    "    plt.xticks(xpos, series.index)\n",
    "    plt.ylabel(ylabel)\n",
    "    plt.title(title)\n",
    "\n",
    "def greater_than_dist(x, y, binSize, minx=None, maxx=None):\n",
    "    \"\"\"\n",
    "    x and y are pd Series\n",
    "    \n",
    "    both x is numeric and y is categorical. returns y's probabilities in each x bin\n",
    "    \"\"\"\n",
    "    assert(y is not None)\n",
    "\n",
    "    vals = np.sort(y.unique())\n",
    "    cols = [x.name] + vals.astype(np.str).tolist()\n",
    "    vals = pd.Series(np.zeros(vals.shape[0]), index=vals)\n",
    "    \n",
    "    df = pd.concat([x, y], axis=1, ignore_index=True)\n",
    "    df.columns = ['x', 'y']\n",
    "    minx = df.x.min() - 1e-12 if minx is None else minx\n",
    "    maxx = df.x.max() if maxx is None else maxx\n",
    "\n",
    "    df = df[(df.x >= minx) & (df.x < maxx)]\n",
    "    bins = np.arange(minx, maxx, binSize)\n",
    "    \n",
    "    rs = np.array([])\n",
    "    for bin_min in bins:\n",
    "        z = df[df.x >= bin_min]\n",
    "        probs = z.y.value_counts(normalize=True)\n",
    "        probs = vals.align(probs, fill_value=0.0)[1].sort_index()\n",
    "        probs = [bin_min] + probs.tolist()\n",
    "        rs = np.append(rs, probs)\n",
    "    rs = rs.reshape(-1, vals.shape[0]+1)\n",
    "    rs = pd.DataFrame(rs, columns=cols)\n",
    "    return rs"
   ]
  },
  {
   "cell_type": "code",
   "execution_count": 16,
   "metadata": {},
   "outputs": [
    {
     "name": "stdout",
     "output_type": "stream",
     "text": [
      "[[ 1. -2. -2.]\n",
      " [ 3.  0.  0.]\n",
      " [ 0.  1. -1.]]\n",
      "\n",
      "[ 1.3333334  -0.33333334 -1.        ]\n",
      "[1.2472192 1.2472192 0.8164966]\n",
      "\n",
      "[[-0.33333337 -1.6666666  -1.        ]\n",
      " [ 1.6666666   0.33333334  1.        ]\n",
      " [-1.3333334   1.3333334   0.        ]]\n",
      "[[-0.26726127 -1.3363061  -1.2247448 ]\n",
      " [ 1.3363061   0.26726124  1.2247448 ]\n",
      " [-1.069045    1.069045    0.        ]]\n"
     ]
    }
   ],
   "source": [
    "from sklearn import preprocessing\n",
    "\n",
    "x = np.array([[1, -2, -2], [3, 0, 0], [0, 1, -1]])\n",
    "x = x.astype(np.float32)\n",
    "print(x)\n",
    "print()\n",
    "print(x.mean(axis=0))\n",
    "print(x.std(axis=0))\n",
    "print()\n",
    "a = x-x.mean(axis=0)\n",
    "b = a / x.std(axis=0)\n",
    "print(a)\n",
    "print(b)"
   ]
  },
  {
   "cell_type": "code",
   "execution_count": 11,
   "metadata": {},
   "outputs": [
    {
     "name": "stdout",
     "output_type": "stream",
     "text": [
      "[[-0.2672612  -1.3363061  -1.2247448 ]\n",
      " [ 1.3363061   0.26726118  1.2247448 ]\n",
      " [-1.069045    1.069045    0.        ]]\n",
      "[-3.973643e-08  0.000000e+00  0.000000e+00]\n",
      "[0.9999999 0.9999999 0.9999999]\n"
     ]
    },
    {
     "name": "stderr",
     "output_type": "stream",
     "text": [
      "/Library/Frameworks/Python.framework/Versions/3.6/lib/python3.6/site-packages/sklearn/preprocessing/data.py:164: UserWarning: Numerical issues were encountered when centering the data and might not be solved. Dataset may contain too large values. You may need to prescale your features.\n",
      "  warnings.warn(\"Numerical issues were encountered \"\n",
      "/Library/Frameworks/Python.framework/Versions/3.6/lib/python3.6/site-packages/sklearn/preprocessing/data.py:181: UserWarning: Numerical issues were encountered when scaling the data and might not be solved. The standard deviation of the data is probably very close to 0. \n",
      "  warnings.warn(\"Numerical issues were encountered \"\n"
     ]
    }
   ],
   "source": [
    "scaled = preprocessing.scale(x, axis=0)\n",
    "print(scaled)\n",
    "print(scaled.mean(axis=0))\n",
    "print(scaled.std(axis=0))"
   ]
  },
  {
   "cell_type": "code",
   "execution_count": 28,
   "metadata": {},
   "outputs": [
    {
     "name": "stdout",
     "output_type": "stream",
     "text": [
      "[[ 0.25       -0.6666667  -0.6666667 ]\n",
      " [ 0.75        0.          0.        ]\n",
      " [ 0.          0.33333334 -0.33333334]]\n",
      "[[ 0.31622776 -0.8944272  -0.8944272 ]\n",
      " [ 0.94868326  0.          0.        ]\n",
      " [ 0.          0.4472136  -0.4472136 ]]\n"
     ]
    }
   ],
   "source": [
    "scaled = preprocessing.normalize(x, norm='l1', axis=0)\n",
    "print(scaled)\n",
    "scaled = preprocessing.normalize(x, norm='l2', axis=0)\n",
    "print(scaled)"
   ]
  },
  {
   "cell_type": "code",
   "execution_count": 29,
   "metadata": {},
   "outputs": [
    {
     "name": "stdout",
     "output_type": "stream",
     "text": [
      "4\n",
      "[0.25 0.75 0.  ]\n",
      "3.1622776601683795\n",
      "[0.31622777 0.9486833  0.        ]\n"
     ]
    }
   ],
   "source": [
    "# L1-norm: normalize with the sum\n",
    "a = np.array([1,3,0])\n",
    "l1 = np.sum(a)\n",
    "print(l1)\n",
    "print(a/l1)\n",
    "\n",
    "# L2=norm: add up sqaure, then sqrt the sum. Use that to normalize\n",
    "l2 = np.sqrt(np.sum(np.square(a)))\n",
    "print(l2)\n",
    "print(a/l2)"
   ]
  },
  {
   "cell_type": "code",
   "execution_count": 36,
   "metadata": {},
   "outputs": [
    {
     "name": "stdout",
     "output_type": "stream",
     "text": [
      "[[ -3.3333335 -10.        -10.       ]\n",
      " [ 10.          3.333333   10.       ]\n",
      " [-10.         10.          0.       ]]\n"
     ]
    }
   ],
   "source": [
    "a = preprocessing.MinMaxScaler(feature_range=(-10, 10)).fit_transform(x) # always axis=0\n",
    "print(a)"
   ]
  },
  {
   "cell_type": "code",
   "execution_count": 37,
   "metadata": {},
   "outputs": [
    {
     "name": "stdout",
     "output_type": "stream",
     "text": [
      "[[ 1. -2. -2.]\n",
      " [ 3.  0.  0.]\n",
      " [ 0.  1. -1.]]\n",
      "\n",
      "[[1. 0. 0.]\n",
      " [1. 0. 0.]\n",
      " [0. 1. 0.]]\n"
     ]
    }
   ],
   "source": [
    "a = preprocessing.Binarizer(threshold=0.5).transform(x)\n",
    "print(x)\n",
    "print()\n",
    "print(a)"
   ]
  },
  {
   "cell_type": "code",
   "execution_count": 38,
   "metadata": {},
   "outputs": [
    {
     "name": "stdout",
     "output_type": "stream",
     "text": [
      "[[nan  0.  3.]\n",
      " [ 2.  9. -8.]\n",
      " [ 1. nan  1.]\n",
      " [ 5.  2.  4.]\n",
      " [ 7.  6. -1.]]\n"
     ]
    }
   ],
   "source": [
    "from numpy import nan\n",
    "y = np.array([nan, 0, 3, 2, 9, -8, 1, nan, 1, 5, 2, 4, 7, 6, -1]).reshape(-1, 3)\n",
    "print(y)"
   ]
  },
  {
   "cell_type": "code",
   "execution_count": 44,
   "metadata": {},
   "outputs": [
    {
     "name": "stdout",
     "output_type": "stream",
     "text": [
      "[ 0.  9. nan  2.  6.]\n",
      "4.0\n",
      "[[ 3.5  0.   3. ]\n",
      " [ 2.   9.  -8. ]\n",
      " [ 1.   4.   1. ]\n",
      " [ 5.   2.   4. ]\n",
      " [ 7.   6.  -1. ]]\n"
     ]
    }
   ],
   "source": [
    "from sklearn.preprocessing import Imputer\n",
    "a1 = y[:, 1]\n",
    "print(a1)\n",
    "print(np.nanmedian(a1))\n",
    "\n",
    "a = Imputer(strategy='median').fit_transform(y)\n",
    "print(a)"
   ]
  },
  {
   "cell_type": "code",
   "execution_count": 57,
   "metadata": {},
   "outputs": [
    {
     "name": "stdout",
     "output_type": "stream",
     "text": [
      "(array([84, 80, 81, 84, 69, 70, 77, 80, 73, 67, 69, 84, 82]), array([ 0.,  1.,  2.,  3.,  4.,  5.,  6.,  7.,  8.,  9., 10., 11., 12.,\n",
      "       13.]))\n",
      "(array([0.084, 0.08 , 0.081, 0.084, 0.069, 0.07 , 0.077, 0.08 , 0.073,\n",
      "       0.067, 0.069, 0.084, 0.082]), array([ 0.,  1.,  2.,  3.,  4.,  5.,  6.,  7.,  8.,  9., 10., 11., 12.,\n",
      "       13.]))\n",
      "(array([0.084, 0.08 , 0.081, 0.084, 0.069, 0.07 , 0.077, 0.08 , 0.073,\n",
      "       0.067, 0.069, 0.084, 0.082]), array([ 0.,  1.,  2.,  3.,  4.,  5.,  6.,  7.,  8.,  9., 10., 11., 12.,\n",
      "       13.]))\n"
     ]
    }
   ],
   "source": [
    "z = np.random.rand(1000)\n",
    "bins = 13\n",
    "z = z * bins # to make bins unity, so densities are normalized\n",
    "a = np.histogram(z, bins=bins, range=(0, bins))\n",
    "print(a)\n",
    "a = np.histogram(z, bins=bins, range=(0, bins), normed=True)\n",
    "print(a)\n",
    "a = np.histogram(z, bins=bins, range=(0, bins), density=True)\n",
    "print(a)"
   ]
  },
  {
   "cell_type": "code",
   "execution_count": 63,
   "metadata": {},
   "outputs": [
    {
     "name": "stdout",
     "output_type": "stream",
     "text": [
      "[0.01023458 0.02336912 0.14638387 0.23242962 0.23479087 0.64852594\n",
      " 0.64963265 0.90113063 0.90738677 0.97610273]\n",
      "[10, 8, 7, 5, 5, 5, 5, 3, 3, 3]\n"
     ]
    }
   ],
   "source": [
    "z = np.sort(np.random.rand(10))\n",
    "print(z)\n",
    "bins = 10\n",
    "z *= bins\n",
    "z1 = [ z[z>x].shape[0] for x in range(bins) ]\n",
    "print(z1)"
   ]
  },
  {
   "cell_type": "code",
   "execution_count": 144,
   "metadata": {},
   "outputs": [
    {
     "data": {
      "text/html": [
       "<div>\n",
       "<style scoped>\n",
       "    .dataframe tbody tr th:only-of-type {\n",
       "        vertical-align: middle;\n",
       "    }\n",
       "\n",
       "    .dataframe tbody tr th {\n",
       "        vertical-align: top;\n",
       "    }\n",
       "\n",
       "    .dataframe thead th {\n",
       "        text-align: right;\n",
       "    }\n",
       "</style>\n",
       "<table border=\"1\" class=\"dataframe\">\n",
       "  <thead>\n",
       "    <tr style=\"text-align: right;\">\n",
       "      <th></th>\n",
       "      <th>x-axis</th>\n",
       "      <th>y-axis</th>\n",
       "    </tr>\n",
       "  </thead>\n",
       "  <tbody>\n",
       "    <tr>\n",
       "      <th>0</th>\n",
       "      <td>0</td>\n",
       "      <td>a</td>\n",
       "    </tr>\n",
       "    <tr>\n",
       "      <th>1</th>\n",
       "      <td>1</td>\n",
       "      <td>b</td>\n",
       "    </tr>\n",
       "    <tr>\n",
       "      <th>2</th>\n",
       "      <td>2</td>\n",
       "      <td>c</td>\n",
       "    </tr>\n",
       "    <tr>\n",
       "      <th>3</th>\n",
       "      <td>3</td>\n",
       "      <td>d</td>\n",
       "    </tr>\n",
       "    <tr>\n",
       "      <th>4</th>\n",
       "      <td>4</td>\n",
       "      <td>e</td>\n",
       "    </tr>\n",
       "    <tr>\n",
       "      <th>5</th>\n",
       "      <td>5</td>\n",
       "      <td>c</td>\n",
       "    </tr>\n",
       "    <tr>\n",
       "      <th>6</th>\n",
       "      <td>6</td>\n",
       "      <td>b</td>\n",
       "    </tr>\n",
       "    <tr>\n",
       "      <th>7</th>\n",
       "      <td>7</td>\n",
       "      <td>c</td>\n",
       "    </tr>\n",
       "    <tr>\n",
       "      <th>8</th>\n",
       "      <td>8</td>\n",
       "      <td>a</td>\n",
       "    </tr>\n",
       "    <tr>\n",
       "      <th>9</th>\n",
       "      <td>9</td>\n",
       "      <td>c</td>\n",
       "    </tr>\n",
       "  </tbody>\n",
       "</table>\n",
       "</div>"
      ],
      "text/plain": [
       "   x-axis y-axis\n",
       "0       0      a\n",
       "1       1      b\n",
       "2       2      c\n",
       "3       3      d\n",
       "4       4      e\n",
       "5       5      c\n",
       "6       6      b\n",
       "7       7      c\n",
       "8       8      a\n",
       "9       9      c"
      ]
     },
     "metadata": {},
     "output_type": "display_data"
    },
    {
     "name": "stdout",
     "output_type": "stream",
     "text": [
      "(80000, 2)\n"
     ]
    },
    {
     "data": {
      "text/html": [
       "<div>\n",
       "<style scoped>\n",
       "    .dataframe tbody tr th:only-of-type {\n",
       "        vertical-align: middle;\n",
       "    }\n",
       "\n",
       "    .dataframe tbody tr th {\n",
       "        vertical-align: top;\n",
       "    }\n",
       "\n",
       "    .dataframe thead th {\n",
       "        text-align: right;\n",
       "    }\n",
       "</style>\n",
       "<table border=\"1\" class=\"dataframe\">\n",
       "  <thead>\n",
       "    <tr style=\"text-align: right;\">\n",
       "      <th></th>\n",
       "      <th>x-axis</th>\n",
       "      <th>a</th>\n",
       "      <th>b</th>\n",
       "      <th>c</th>\n",
       "      <th>d</th>\n",
       "      <th>e</th>\n",
       "    </tr>\n",
       "  </thead>\n",
       "  <tbody>\n",
       "    <tr>\n",
       "      <th>0</th>\n",
       "      <td>0</td>\n",
       "      <td>0.199990</td>\n",
       "      <td>0.200003</td>\n",
       "      <td>0.200003</td>\n",
       "      <td>0.200003</td>\n",
       "      <td>0.200003</td>\n",
       "    </tr>\n",
       "    <tr>\n",
       "      <th>1</th>\n",
       "      <td>8000</td>\n",
       "      <td>0.199781</td>\n",
       "      <td>0.199975</td>\n",
       "      <td>0.199503</td>\n",
       "      <td>0.200336</td>\n",
       "      <td>0.200406</td>\n",
       "    </tr>\n",
       "    <tr>\n",
       "      <th>2</th>\n",
       "      <td>16000</td>\n",
       "      <td>0.199925</td>\n",
       "      <td>0.200113</td>\n",
       "      <td>0.199534</td>\n",
       "      <td>0.200050</td>\n",
       "      <td>0.200378</td>\n",
       "    </tr>\n",
       "    <tr>\n",
       "      <th>3</th>\n",
       "      <td>24000</td>\n",
       "      <td>0.198789</td>\n",
       "      <td>0.201450</td>\n",
       "      <td>0.199486</td>\n",
       "      <td>0.200968</td>\n",
       "      <td>0.199307</td>\n",
       "    </tr>\n",
       "    <tr>\n",
       "      <th>4</th>\n",
       "      <td>32000</td>\n",
       "      <td>0.197275</td>\n",
       "      <td>0.201317</td>\n",
       "      <td>0.200129</td>\n",
       "      <td>0.201004</td>\n",
       "      <td>0.200275</td>\n",
       "    </tr>\n",
       "    <tr>\n",
       "      <th>5</th>\n",
       "      <td>40000</td>\n",
       "      <td>0.197380</td>\n",
       "      <td>0.200630</td>\n",
       "      <td>0.201280</td>\n",
       "      <td>0.200880</td>\n",
       "      <td>0.199830</td>\n",
       "    </tr>\n",
       "    <tr>\n",
       "      <th>6</th>\n",
       "      <td>48000</td>\n",
       "      <td>0.197131</td>\n",
       "      <td>0.199787</td>\n",
       "      <td>0.202600</td>\n",
       "      <td>0.199819</td>\n",
       "      <td>0.200663</td>\n",
       "    </tr>\n",
       "    <tr>\n",
       "      <th>7</th>\n",
       "      <td>56000</td>\n",
       "      <td>0.196550</td>\n",
       "      <td>0.198050</td>\n",
       "      <td>0.205425</td>\n",
       "      <td>0.201342</td>\n",
       "      <td>0.198633</td>\n",
       "    </tr>\n",
       "    <tr>\n",
       "      <th>8</th>\n",
       "      <td>64000</td>\n",
       "      <td>0.195762</td>\n",
       "      <td>0.198637</td>\n",
       "      <td>0.204138</td>\n",
       "      <td>0.202763</td>\n",
       "      <td>0.198700</td>\n",
       "    </tr>\n",
       "    <tr>\n",
       "      <th>9</th>\n",
       "      <td>72000</td>\n",
       "      <td>0.201275</td>\n",
       "      <td>0.196150</td>\n",
       "      <td>0.205151</td>\n",
       "      <td>0.198775</td>\n",
       "      <td>0.198650</td>\n",
       "    </tr>\n",
       "  </tbody>\n",
       "</table>\n",
       "</div>"
      ],
      "text/plain": [
       "   x-axis         a         b         c         d         e\n",
       "0       0  0.199990  0.200003  0.200003  0.200003  0.200003\n",
       "1    8000  0.199781  0.199975  0.199503  0.200336  0.200406\n",
       "2   16000  0.199925  0.200113  0.199534  0.200050  0.200378\n",
       "3   24000  0.198789  0.201450  0.199486  0.200968  0.199307\n",
       "4   32000  0.197275  0.201317  0.200129  0.201004  0.200275\n",
       "5   40000  0.197380  0.200630  0.201280  0.200880  0.199830\n",
       "6   48000  0.197131  0.199787  0.202600  0.199819  0.200663\n",
       "7   56000  0.196550  0.198050  0.205425  0.201342  0.198633\n",
       "8   64000  0.195762  0.198637  0.204138  0.202763  0.198700\n",
       "9   72000  0.201275  0.196150  0.205151  0.198775  0.198650"
      ]
     },
     "metadata": {},
     "output_type": "display_data"
    }
   ],
   "source": [
    "samples = 80000\n",
    "n_vals = 5\n",
    "yv = [chr(ord('a')+i) for i in range(n_vals)]\n",
    "\n",
    "x = range(samples)\n",
    "y = np.array(yv * (samples // n_vals)); np.random.shuffle(y)\n",
    "a = pd.DataFrame(np.column_stack((x, y)), columns=['x-axis', 'y-axis'])\n",
    "a['x-axis'] = a['x-axis'].astype('int64')\n",
    "display(a.head(10))\n",
    "print(a.shape)\n",
    "\n",
    "bin_size = samples // 10\n",
    "rs = greater_than_dist(a['x-axis'], a['y-axis'], bin_size)\n",
    "rs['x-axis'] = (rs['x-axis']+1e-7).astype('int64')\n",
    "display(rs)"
   ]
  },
  {
   "cell_type": "code",
   "execution_count": 124,
   "metadata": {},
   "outputs": [
    {
     "name": "stdout",
     "output_type": "stream",
     "text": [
      "x-axis y-axis\n",
      "['bin', 'a', 'b', 'c', 'd', 'e']\n",
      "a    0.0\n",
      "b    0.0\n",
      "c    0.0\n",
      "d    0.0\n",
      "e    0.0\n",
      "dtype: float64\n",
      "     x  y\n",
      "0    0  c\n",
      "1    1  d\n",
      "2    2  b\n",
      "3    3  b\n",
      "4    4  d\n",
      "5    5  a\n",
      "6    6  e\n",
      "7    7  b\n",
      "8    8  c\n",
      "9    9  d\n",
      "10  10  b\n",
      "11  11  c\n",
      "12  12  e\n",
      "13  13  a\n",
      "14  14  a\n",
      "15  15  d\n",
      "16  16  a\n",
      "17  17  c\n",
      "18  18  e\n",
      "19  19  e\n",
      "-1e-12 19\n",
      "bins: [-1.0e-12  4.0e+00  8.0e+00  1.2e+01  1.6e+01]\n"
     ]
    }
   ],
   "source": [
    "x = a['x-axis']\n",
    "y = a['y-axis']\n",
    "xname, yname = x.name, y.name\n",
    "print(xname, yname)\n",
    "\n",
    "vals = np.sort(y.unique())\n",
    "cols = ['bin'] + vals.astype(np.str).tolist()\n",
    "print(cols)\n",
    "vals = pd.Series(np.zeros(vals.shape[0]), index=vals)\n",
    "print(vals)\n",
    "\n",
    "df = pd.concat([x, y], axis=1, ignore_index=True)\n",
    "df.columns = ['x', 'y']\n",
    "print(df)\n",
    "\n",
    "minx = maxx = None\n",
    "binSize = 4\n",
    "if minx is None:\n",
    "    minx = df.x.min() - 1e-12\n",
    "if maxx is None:\n",
    "    maxx = df.x.max()\n",
    "print(minx, maxx)\n",
    "\n",
    "df = df[(df.x >= minx) & (df.x < maxx)]\n",
    "bins = np.arange(minx, maxx, binSize)\n",
    "print('bins:', bins)\n"
   ]
  },
  {
   "cell_type": "code",
   "execution_count": 125,
   "metadata": {},
   "outputs": [
    {
     "name": "stdout",
     "output_type": "stream",
     "text": [
      "            bin         a         b         c         d         e\n",
      "0 -1.000000e-12  0.210526  0.210526  0.210526  0.210526  0.157895\n",
      "1  4.000000e+00  0.266667  0.133333  0.200000  0.200000  0.200000\n",
      "2  8.000000e+00  0.272727  0.090909  0.272727  0.181818  0.181818\n",
      "3  1.200000e+01  0.428571  0.000000  0.142857  0.142857  0.285714\n",
      "4  1.600000e+01  0.333333  0.000000  0.333333  0.000000  0.333333\n"
     ]
    }
   ],
   "source": [
    "rs = np.array([])\n",
    "for i, bin_min in enumerate(bins):\n",
    "    z = df[df.x >= bin_min]\n",
    "    probs = z.y.value_counts(normalize=True).sort_index()\n",
    "    probs = vals.align(probs)[1]\n",
    "    probs[pd.isnull(probs)] = 0.0\n",
    "    probs = [bin_min] + probs.tolist()\n",
    "    rs = np.append(rs, probs)\n",
    "rs = rs.reshape(-1, vals.shape[0]+1)\n",
    "rs = pd.DataFrame(rs, columns=cols)\n",
    "print(rs)"
   ]
  },
  {
   "cell_type": "code",
   "execution_count": null,
   "metadata": {},
   "outputs": [],
   "source": []
  }
 ],
 "metadata": {
  "kernelspec": {
   "display_name": "Python 3",
   "language": "python",
   "name": "python3"
  },
  "language_info": {
   "codemirror_mode": {
    "name": "ipython",
    "version": 3
   },
   "file_extension": ".py",
   "mimetype": "text/x-python",
   "name": "python",
   "nbconvert_exporter": "python",
   "pygments_lexer": "ipython3",
   "version": "3.6.6"
  }
 },
 "nbformat": 4,
 "nbformat_minor": 2
}
