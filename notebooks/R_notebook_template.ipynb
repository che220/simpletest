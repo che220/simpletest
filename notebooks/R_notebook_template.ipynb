{
 "cells": [
  {
   "cell_type": "code",
   "execution_count": 2,
   "metadata": {},
   "outputs": [
    {
     "name": "stdout",
     "output_type": "stream",
     "text": [
      "[1] \"HOME = C:\\\\Users\\\\hwang7\\\\Documents/..\"\n",
      "[1] \"DB_FILE_LOCATION = C:\\\\Users\\\\hwang7\\\\Documents/..\"\n",
      "[1] \"PCG_DS_ROOT = C:/pcg_data_science\"\n",
      "[1] \"JAVA_LIB_DIR = C:/pcg_data_science/java_lib\"\n",
      "[1] \"WORKSPACE_DIR = C:\\\\Users\\\\hwang7\\\\Documents/../Box Sync/work/workspace\"\n",
      "[1] \"LOG_DIR = C:\\\\Users\\\\hwang7\\\\Documents/../Box Sync/work/workspace/log\"\n",
      "[1] \"DATA_CACHE_DIR = C:/apps/spark_cache\"\n"
     ]
    },
    {
     "name": "stderr",
     "output_type": "stream",
     "text": [
      "Warning message:\n",
      "\"package 'sqldf' was built under R version 3.4.3\"Loading required package: gsubfn\n",
      "Warning message:\n",
      "\"package 'gsubfn' was built under R version 3.4.3\"Loading required package: proto\n",
      "Warning message:\n",
      "\"package 'proto' was built under R version 3.4.3\"Could not load tcltk.  Will use slower R code instead.\n",
      "Loading required package: RSQLite\n",
      "Warning message:\n",
      "\"package 'RSQLite' was built under R version 3.4.3\"Warning message:\n",
      "\"package 'RJDBC' was built under R version 3.4.3\"Loading required package: DBI\n",
      "Loading required package: rJava\n",
      "Warning message:\n",
      "\"package 'rJava' was built under R version 3.4.3\"Warning message:\n",
      "\"package 'stringdist' was built under R version 3.4.3\"Warning message:\n",
      "\"package 'mailR' was built under R version 3.4.3\"Warning message:\n",
      "\"package 'htmlTable' was built under R version 3.4.3\"Warning message:\n",
      "\"package 'feather' was built under R version 3.4.3\""
     ]
    },
    {
     "name": "stdout",
     "output_type": "stream",
     "text": [
      "[1] \"Today is 20180312\"\n"
     ]
    }
   ],
   "source": [
    "PCG_DS_ROOT = 'C:/pcg_data_science'\n",
    "Sys.setenv(PCG_DS_ROOT=PCG_DS_ROOT)\n",
    "source(file.path(PCG_DS_ROOT, 'data/pcg.R'))"
   ]
  },
  {
   "cell_type": "code",
   "execution_count": 8,
   "metadata": {},
   "outputs": [
    {
     "name": "stdout",
     "output_type": "stream",
     "text": [
      "[1] \"Load entitlements of TY 2015 from file C:/apps/spark_cache/order_entitlements_TY15.csv ...\"\n",
      "Classes 'data.table' and 'data.frame':\t173808 obs. of  7 variables:\n",
      " $ CAN               : num  100407 100427 100984 101110 101135 ...\n",
      " $ TY                : int  2015 2015 2015 2015 2015 2015 2015 2015 2015 2015 ...\n",
      " $ PRODUCT_LINE      : chr  \"Lacerte\" \"Lacerte\" \"ProSeries\" \"Lacerte\" ...\n",
      " $ PRODUCT           : chr  \"Lacerte Federal\" \"Lacerte Federal\" \"ProSeries PowerTax Lite\" \"Lacerte Fast Path\" ...\n",
      " $ PRODUCT_LIST_PRICE: int  2387 2387 3823 395 2387 4545 1475 1475 4545 329 ...\n",
      " $ ENTITLEMENT       : chr  \"\" \"MY TY12 ACQUISITION 40% OFF FOR 5 YEARS\" \"\" \"TY15 19% ONE TIME DISCOUNT\" ...\n",
      " $ PROMOTION         : chr  \"15% EARLY RENEWAL DISCOUNT ON TY15 LACERTE TAX PROGRAM\" \"15% EARLY RENEWAL DISCOUNT ON TY15 LACERTE TAX PROGRAM\" \"AUTO RENEWAL DISCOUNT 1 FOR TY15 PROSERIES PROFESSIONAL\" \"\" ...\n",
      " - attr(*, \".internal.selfref\")=<externalptr> \n",
      "NULL\n",
      "[1] \"Load all entitlement characters from file C:/apps/spark_cache/all_entitlements.csv ...\"\n",
      "Classes 'data.table' and 'data.frame':\t727 obs. of  12 variables:\n",
      " $ ENTITLEMENT            : chr  \"MY TY10 30% OFF FOR 3 YEARS\" \"MY TY11 20% OFF FOR 3 YEARS\" \"TY16 76% ONE TIME DISCOUNT\" \"TY16 DIAMOND PASSPORT $400 OFF 1 YEAR PRICING ADJUSTMENT\" ...\n",
      " $ ENTITLED_START_TY      : int  2010 2011 2016 2016 2016 2017 2017 2017 NA 2014 ...\n",
      " $ ENTITLED_YEARS         : int  3 3 1 1 3 1 3 3 NA 1 ...\n",
      " $ ENTITLED_END_TY        : int  2013 2014 2017 2017 2019 2018 2020 2020 NA 2015 ...\n",
      " $ IS_PM                  : chr  \"false\" \"false\" \"false\" \"true\" ...\n",
      " $ IS_DP                  : chr  \"false\" \"false\" \"false\" \"true\" ...\n",
      " $ IS_RT                  : chr  \"false\" \"false\" \"false\" \"false\" ...\n",
      " $ FIXED_PRICE_ENTITLEMENT: chr  \"false\" \"false\" \"false\" \"true\" ...\n",
      " $ ONE_TIME_ENTITLEMENT   : chr  \"false\" \"false\" \"true\" \"true\" ...\n",
      " $ MULTI_YEAR_ENTITLEMENT : chr  \"true\" \"true\" \"false\" \"false\" ...\n",
      " $ ENTITLED_DOLLAR        : int  0 0 0 400 0 0 0 0 50 0 ...\n",
      " $ ENTITLED_PCT           : int  30 20 76 0 36 80 27 0 0 70 ...\n",
      " - attr(*, \".internal.selfref\")=<externalptr> \n",
      "NULL\n"
     ]
    }
   ],
   "source": [
    "ty = 2015\n",
    "file = file.path(DATA_CACHE_DIR, paste0(\"order_entitlements_TY\", ty%%2000, \".csv\"))\n",
    "print(sprintf(\"Load entitlements of TY %d from file %s ...\", ty, file))\n",
    "cans = fread(file)\n",
    "cans$CAN = as.numeric(dd$CAN)\n",
    "print(str(dd))\n",
    "\n",
    "file = file.path(DATA_CACHE_DIR, \"all_entitlements.csv\")\n",
    "print(sprintf(\"Load all entitlement characters from file %s ...\", file))\n",
    "ents = fread(file)\n",
    "print(str(ents))"
   ]
  },
  {
   "cell_type": "code",
   "execution_count": 3,
   "metadata": {},
   "outputs": [
    {
     "name": "stdout",
     "output_type": "stream",
     "text": [
      "Read 96330 rows and 613 (of 613) columns from 0.246 GB file in 00:00:15\n",
      "\n",
      "    BASIC   LACERTE PROSERIES \n",
      "    18142     31757     46431 \n"
     ]
    }
   ],
   "source": [
    "ty = 2015\n",
    "file = file.path(DATA_CACHE_DIR, paste0(\"desktop_profile_complete_TY\", ty, \".csv\"))\n",
    "x = fread(file)\n",
    "print(table(x$PRODUCT_FAMILY))"
   ]
  },
  {
   "cell_type": "code",
   "execution_count": null,
   "metadata": {
    "collapsed": true
   },
   "outputs": [],
   "source": []
  }
 ],
 "metadata": {
  "kernelspec": {
   "display_name": "R",
   "language": "R",
   "name": "ir"
  },
  "language_info": {
   "codemirror_mode": "r",
   "file_extension": ".r",
   "mimetype": "text/x-r-source",
   "name": "R",
   "pygments_lexer": "r",
   "version": "3.4.2"
  }
 },
 "nbformat": 4,
 "nbformat_minor": 2
}
