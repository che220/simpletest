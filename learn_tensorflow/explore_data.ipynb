{
 "cells": [
  {
   "cell_type": "code",
   "execution_count": 1,
   "metadata": {
    "collapsed": true
   },
   "outputs": [],
   "source": [
    "%config IPCompleter.greedy=True\n",
    "%matplotlib inline\n",
    "%load_ext autoreload\n",
    "%autoreload 2"
   ]
  },
  {
   "cell_type": "code",
   "execution_count": 2,
   "metadata": {
    "collapsed": true
   },
   "outputs": [],
   "source": [
    "import pandas as pd, numpy as np, os, sys, re, pickle, math, copy\n",
    "import matplotlib.pyplot as plt\n",
    "from sklearn.datasets import fetch_california_housing\n",
    "from IPython.display import display, HTML\n",
    "\n",
    "def showDF(df):\n",
    "    display(df.head(4))\n",
    "    display(df.dtypes)\n",
    "    display(df.shape)"
   ]
  },
  {
   "cell_type": "code",
   "execution_count": 3,
   "metadata": {},
   "outputs": [
    {
     "data": {
      "text/html": [
       "<div>\n",
       "<style>\n",
       "    .dataframe thead tr:only-child th {\n",
       "        text-align: right;\n",
       "    }\n",
       "\n",
       "    .dataframe thead th {\n",
       "        text-align: left;\n",
       "    }\n",
       "\n",
       "    .dataframe tbody tr th {\n",
       "        vertical-align: top;\n",
       "    }\n",
       "</style>\n",
       "<table border=\"1\" class=\"dataframe\">\n",
       "  <thead>\n",
       "    <tr style=\"text-align: right;\">\n",
       "      <th></th>\n",
       "      <th>MedInc</th>\n",
       "      <th>HouseAge</th>\n",
       "      <th>AveRooms</th>\n",
       "      <th>AveBedrms</th>\n",
       "      <th>Population</th>\n",
       "      <th>AveOccup</th>\n",
       "      <th>Latitude</th>\n",
       "      <th>Longitude</th>\n",
       "    </tr>\n",
       "  </thead>\n",
       "  <tbody>\n",
       "    <tr>\n",
       "      <th>0</th>\n",
       "      <td>8.3252</td>\n",
       "      <td>41.0</td>\n",
       "      <td>6.984127</td>\n",
       "      <td>1.023810</td>\n",
       "      <td>322.0</td>\n",
       "      <td>2.555556</td>\n",
       "      <td>37.88</td>\n",
       "      <td>-122.23</td>\n",
       "    </tr>\n",
       "    <tr>\n",
       "      <th>1</th>\n",
       "      <td>8.3014</td>\n",
       "      <td>21.0</td>\n",
       "      <td>6.238137</td>\n",
       "      <td>0.971880</td>\n",
       "      <td>2401.0</td>\n",
       "      <td>2.109842</td>\n",
       "      <td>37.86</td>\n",
       "      <td>-122.22</td>\n",
       "    </tr>\n",
       "    <tr>\n",
       "      <th>2</th>\n",
       "      <td>7.2574</td>\n",
       "      <td>52.0</td>\n",
       "      <td>8.288136</td>\n",
       "      <td>1.073446</td>\n",
       "      <td>496.0</td>\n",
       "      <td>2.802260</td>\n",
       "      <td>37.85</td>\n",
       "      <td>-122.24</td>\n",
       "    </tr>\n",
       "    <tr>\n",
       "      <th>3</th>\n",
       "      <td>5.6431</td>\n",
       "      <td>52.0</td>\n",
       "      <td>5.817352</td>\n",
       "      <td>1.073059</td>\n",
       "      <td>558.0</td>\n",
       "      <td>2.547945</td>\n",
       "      <td>37.85</td>\n",
       "      <td>-122.25</td>\n",
       "    </tr>\n",
       "  </tbody>\n",
       "</table>\n",
       "</div>"
      ],
      "text/plain": [
       "   MedInc  HouseAge  AveRooms  AveBedrms  Population  AveOccup  Latitude  \\\n",
       "0  8.3252      41.0  6.984127   1.023810       322.0  2.555556     37.88   \n",
       "1  8.3014      21.0  6.238137   0.971880      2401.0  2.109842     37.86   \n",
       "2  7.2574      52.0  8.288136   1.073446       496.0  2.802260     37.85   \n",
       "3  5.6431      52.0  5.817352   1.073059       558.0  2.547945     37.85   \n",
       "\n",
       "   Longitude  \n",
       "0    -122.23  \n",
       "1    -122.22  \n",
       "2    -122.24  \n",
       "3    -122.25  "
      ]
     },
     "metadata": {},
     "output_type": "display_data"
    },
    {
     "data": {
      "text/plain": [
       "MedInc        float64\n",
       "HouseAge      float64\n",
       "AveRooms      float64\n",
       "AveBedrms     float64\n",
       "Population    float64\n",
       "AveOccup      float64\n",
       "Latitude      float64\n",
       "Longitude     float64\n",
       "dtype: object"
      ]
     },
     "metadata": {},
     "output_type": "display_data"
    },
    {
     "data": {
      "text/plain": [
       "(20640, 8)"
      ]
     },
     "metadata": {},
     "output_type": "display_data"
    },
    {
     "name": "stdout",
     "output_type": "stream",
     "text": [
      "(20640, 1)\n"
     ]
    }
   ],
   "source": [
    "housing = fetch_california_housing()\n",
    "housing = pd.DataFrame(housing.data, columns = housing.feature_names)\n",
    "showDF(housing)\n",
    "\n",
    "a = housing.as_matrix()[:, 0].reshape(-1, 1) # test reshape\n",
    "print(a.shape)"
   ]
  },
  {
   "cell_type": "code",
   "execution_count": 4,
   "metadata": {},
   "outputs": [
    {
     "data": {
      "text/plain": [
       "<matplotlib.axes._subplots.AxesSubplot at 0x20c96145278>"
      ]
     },
     "execution_count": 4,
     "metadata": {},
     "output_type": "execute_result"
    },
    {
     "data": {
      "image/png": "[encoded data removed]",
      "text/plain": [
       "<matplotlib.figure.Figure at 0x20c937fa710>"
      ]
     },
     "metadata": {},
     "output_type": "display_data"
    }
   ],
   "source": [
    "housing.plot(kind='scatter', x='Longitude', y='Latitude', figsize=(10, 5))"
   ]
  },
  {
   "cell_type": "code",
   "execution_count": 5,
   "metadata": {},
   "outputs": [
    {
     "name": "stdout",
     "output_type": "stream",
     "text": [
      "-124.35 -114.31\n",
      "[[2.12001]\n",
      " [2.13001]\n",
      " [2.11001]\n",
      " ...\n",
      " [3.13001]\n",
      " [3.03001]\n",
      " [3.11001]]\n",
      "BoxCox-ed:\n",
      "[[1.13571041]\n",
      " [1.14596152]\n",
      " [1.12546088]\n",
      " ...\n",
      " [2.17809034]\n",
      " [2.07431971]\n",
      " [2.15732738]]\n",
      "Scaled:\n",
      "[[-1.32565921]\n",
      " [-1.32077927]\n",
      " [-1.3305384 ]\n",
      " ...\n",
      " [-0.82944471]\n",
      " [-0.87884367]\n",
      " [-0.83932871]]\n"
     ]
    }
   ],
   "source": [
    "from scipy.stats import boxcox\n",
    "\n",
    "a = housing.as_matrix()[:, 7].reshape(-1,1)\n",
    "print(np.min(a), np.max(a))\n",
    "a -= np.min(a) - 1e-5\n",
    "print(a)\n",
    "a1, lmbda = boxcox(a)\n",
    "print(\"BoxCox-ed:\")\n",
    "print(a1)\n",
    "\n",
    "from sklearn.preprocessing import StandardScaler, MinMaxScaler\n",
    "\n",
    "scaler = StandardScaler().fit(a1)\n",
    "a2 = scaler.transform(a1)\n",
    "print(\"Scaled:\")\n",
    "print(a2)"
   ]
  },
  {
   "cell_type": "code",
   "execution_count": 70,
   "metadata": {
    "collapsed": true
   },
   "outputs": [],
   "source": [
    "# BoxCox + Standardized transformation\n",
    "from sklearn.base import BaseEstimator, TransformerMixin\n",
    "from scipy.stats import boxcox\n",
    "from sklearn.preprocessing import StandardScaler, MinMaxScaler\n",
    "\n",
    "class DataFrameCategoricalColumns(BaseEstimator, TransformerMixin):\n",
    "    def __init__(self):\n",
    "        return\n",
    "    \n",
    "    def fit(self, X, y=None):\n",
    "        return self;\n",
    "    \n",
    "    def transform(self, X, y=None):\n",
    "        \"\"\"\n",
    "        return DataFrame\n",
    "        \"\"\"\n",
    "        numerics = ['int16', 'int32', 'int64', 'float16', 'float32', 'float64']\n",
    "        numCols = list(X.select_dtypes(include=numerics).columns)\n",
    "        X = X.drop(numCols, axis=1)\n",
    "        return X\n",
    "\n",
    "class DataFrameNumericColumns(BaseEstimator, TransformerMixin):\n",
    "    def __init__(self):\n",
    "        return\n",
    "    \n",
    "    def fit(self, X, y=None):\n",
    "        return self;\n",
    "    \n",
    "    def transform(self, X, y=None):\n",
    "        \"\"\"\n",
    "        return DataFrame\n",
    "        \"\"\"\n",
    "        numerics = ['int16', 'int32', 'int64', 'float16', 'float32', 'float64']\n",
    "        X = X.select_dtypes(include=numerics).copy()\n",
    "        return X\n",
    "    \n",
    "class DataFrameToNArray(BaseEstimator, TransformerMixin):\n",
    "    def __init__(self):\n",
    "        return\n",
    "    \n",
    "    def fit(self, X, y=None):\n",
    "        return self;\n",
    "    \n",
    "    def transform(self, X, y=None):\n",
    "        return X.values\n",
    "\n",
    "class DataFrameColumnSelector(BaseEstimator, TransformerMixin):\n",
    "    def __init__(self, columns):\n",
    "        self.columns = columns\n",
    "    \n",
    "    def fit(self, X, y=None):\n",
    "        return self\n",
    "    \n",
    "    def transform(self, X, y=None):\n",
    "        \"\"\"\n",
    "        return DataFrame\n",
    "        \"\"\"\n",
    "        return X[self.columns]\n",
    "    \n",
    "class BoxCoxTransformer(BaseEstimator, TransformerMixin):\n",
    "    def __init__(self, debug=False):\n",
    "        self.debug = debug\n",
    "        self.lmbdas = []\n",
    "        return\n",
    "    \n",
    "    def fit(self, X, y=None):\n",
    "        return self\n",
    "    \n",
    "    def transform(self, X, y=None):\n",
    "        out = None\n",
    "        for i in range(X.shape[1]):\n",
    "            if self.debug:\n",
    "                print(type(self).__name__, ': working on column', i)\n",
    "                \n",
    "            col = X[:, i].reshape(-1, 1)\n",
    "            col -= np.min(col) - 1e-5 # make sure all data are positive\n",
    "            col, lmbda = boxcox(col)\n",
    "            self.lmbdas.append(lmbda)\n",
    "            \n",
    "            if out is None:\n",
    "                out = col\n",
    "            else:\n",
    "                out = np.c_[out, col]\n",
    "        if self.debug:\n",
    "            print(self.lmbdas)\n",
    "            print(\"Done BoxCoxTransformer's transform\")\n",
    "        return out\n",
    "    \n",
    "class StandardizedBoxCoxTransformer(BaseEstimator, TransformerMixin):\n",
    "    def __init__(self, debug=False):\n",
    "        self.scaler = StandardScaler()\n",
    "        self.debug = debug\n",
    "        return\n",
    "    \n",
    "    def fit(self, X, y=None):\n",
    "        return self\n",
    "    \n",
    "    def transform(self, X, y=None):\n",
    "        out = None\n",
    "        lmbdas = []\n",
    "        for i in range(X.shape[1]):\n",
    "            if self.debug:\n",
    "                print(type(self).__name__, ': working on column', i)\n",
    "                \n",
    "            col = X[:, i].reshape(-1, 1)\n",
    "            col -= np.min(col) - 1e-5 # make sure all data are positive\n",
    "            col, lmbda = boxcox(col)\n",
    "            lmbdas.append(lmbda)\n",
    "            \n",
    "            col = self.scaler.fit(col).transform(col)\n",
    "            if out is None:\n",
    "                out = col\n",
    "            else:\n",
    "                out = np.c_[out, col]\n",
    "        if self.debug:\n",
    "            print(\"Done StandardizedBoxCoxTransformer's transform\")\n",
    "        return out, lmbdas"
   ]
  },
  {
   "cell_type": "code",
   "execution_count": 51,
   "metadata": {},
   "outputs": [
    {
     "name": "stdout",
     "output_type": "stream",
     "text": [
      "BoxCoxTransformer : working on column 0\n",
      "BoxCoxTransformer : working on column 1\n",
      "BoxCoxTransformer : working on column 2\n",
      "BoxCoxTransformer : working on column 3\n",
      "BoxCoxTransformer : working on column 4\n",
      "BoxCoxTransformer : working on column 5\n",
      "BoxCoxTransformer : working on column 6\n",
      "BoxCoxTransformer : working on column 7\n",
      "[array([0.32505786]), array([0.80443763]), array([0.11079528]), array([0.02414263]), array([0.24502036]), array([0.03763226]), array([0.3983832]), array([1.03290346])]\n",
      "Done BoxCoxTransformer's transform\n",
      "[array([0.32505786]), array([0.80443763]), array([0.11079528]), array([0.02414263]), array([0.24502036]), array([0.03763226]), array([0.3983832]), array([1.03290346])]\n"
     ]
    },
    {
     "data": {
      "text/html": [
       "<div>\n",
       "<style>\n",
       "    .dataframe thead tr:only-child th {\n",
       "        text-align: right;\n",
       "    }\n",
       "\n",
       "    .dataframe thead th {\n",
       "        text-align: left;\n",
       "    }\n",
       "\n",
       "    .dataframe tbody tr th {\n",
       "        vertical-align: top;\n",
       "    }\n",
       "</style>\n",
       "<table border=\"1\" class=\"dataframe\">\n",
       "  <thead>\n",
       "    <tr style=\"text-align: right;\">\n",
       "      <th></th>\n",
       "      <th>MedInc</th>\n",
       "      <th>HouseAge</th>\n",
       "      <th>AveRooms</th>\n",
       "      <th>AveBedrms</th>\n",
       "      <th>Population</th>\n",
       "      <th>AveOccup</th>\n",
       "      <th>Latitude</th>\n",
       "      <th>Longitude</th>\n",
       "    </tr>\n",
       "  </thead>\n",
       "  <tbody>\n",
       "    <tr>\n",
       "      <th>0</th>\n",
       "      <td>2.928155</td>\n",
       "      <td>22.926250</td>\n",
       "      <td>2.009750</td>\n",
       "      <td>-0.368708</td>\n",
       "      <td>12.678842</td>\n",
       "      <td>0.629671</td>\n",
       "      <td>2.382452</td>\n",
       "      <td>1.135710</td>\n",
       "    </tr>\n",
       "    <tr>\n",
       "      <th>1</th>\n",
       "      <td>2.922212</td>\n",
       "      <td>12.595914</td>\n",
       "      <td>1.852446</td>\n",
       "      <td>-0.446124</td>\n",
       "      <td>23.393200</td>\n",
       "      <td>0.351227</td>\n",
       "      <td>2.375144</td>\n",
       "      <td>1.145962</td>\n",
       "    </tr>\n",
       "    <tr>\n",
       "      <th>2</th>\n",
       "      <td>2.648526</td>\n",
       "      <td>28.142958</td>\n",
       "      <td>2.247819</td>\n",
       "      <td>-0.299848</td>\n",
       "      <td>14.565328</td>\n",
       "      <td>0.757259</td>\n",
       "      <td>2.371483</td>\n",
       "      <td>1.125461</td>\n",
       "    </tr>\n",
       "    <tr>\n",
       "      <th>3</th>\n",
       "      <td>2.162422</td>\n",
       "      <td>28.142958</td>\n",
       "      <td>1.754957</td>\n",
       "      <td>-0.300368</td>\n",
       "      <td>15.114474</td>\n",
       "      <td>0.625482</td>\n",
       "      <td>2.371483</td>\n",
       "      <td>1.115213</td>\n",
       "    </tr>\n",
       "  </tbody>\n",
       "</table>\n",
       "</div>"
      ],
      "text/plain": [
       "     MedInc   HouseAge  AveRooms  AveBedrms  Population  AveOccup  Latitude  \\\n",
       "0  2.928155  22.926250  2.009750  -0.368708   12.678842  0.629671  2.382452   \n",
       "1  2.922212  12.595914  1.852446  -0.446124   23.393200  0.351227  2.375144   \n",
       "2  2.648526  28.142958  2.247819  -0.299848   14.565328  0.757259  2.371483   \n",
       "3  2.162422  28.142958  1.754957  -0.300368   15.114474  0.625482  2.371483   \n",
       "\n",
       "   Longitude  \n",
       "0   1.135710  \n",
       "1   1.145962  \n",
       "2   1.125461  \n",
       "3   1.115213  "
      ]
     },
     "metadata": {},
     "output_type": "display_data"
    },
    {
     "data": {
      "text/plain": [
       "MedInc        float64\n",
       "HouseAge      float64\n",
       "AveRooms      float64\n",
       "AveBedrms     float64\n",
       "Population    float64\n",
       "AveOccup      float64\n",
       "Latitude      float64\n",
       "Longitude     float64\n",
       "dtype: object"
      ]
     },
     "metadata": {},
     "output_type": "display_data"
    },
    {
     "data": {
      "text/plain": [
       "(20640, 8)"
      ]
     },
     "metadata": {},
     "output_type": "display_data"
    },
    {
     "data": {
      "text/plain": [
       "<matplotlib.axes._subplots.AxesSubplot at 0x20c9a5036d8>"
      ]
     },
     "execution_count": 51,
     "metadata": {},
     "output_type": "execute_result"
    },
    {
     "data": {
      "image/png": "[encoded data removed]",
      "text/plain": [
       "<matplotlib.figure.Figure at 0x20c9a501278>"
      ]
     },
     "metadata": {},
     "output_type": "display_data"
    }
   ],
   "source": [
    "bc = BoxCoxTransformer(True)\n",
    "a = bc.transform(housing.as_matrix())\n",
    "x = pd.DataFrame(a, columns = housing.columns)\n",
    "print(bc.lmbdas)\n",
    "showDF(x)\n",
    "x.plot(kind='scatter', x='Longitude', y='Latitude', figsize=(15, 5), alpha=0.1)"
   ]
  },
  {
   "cell_type": "code",
   "execution_count": 23,
   "metadata": {},
   "outputs": [
    {
     "data": {
      "text/html": [
       "<div>\n",
       "<style>\n",
       "    .dataframe thead tr:only-child th {\n",
       "        text-align: right;\n",
       "    }\n",
       "\n",
       "    .dataframe thead th {\n",
       "        text-align: left;\n",
       "    }\n",
       "\n",
       "    .dataframe tbody tr th {\n",
       "        vertical-align: top;\n",
       "    }\n",
       "</style>\n",
       "<table border=\"1\" class=\"dataframe\">\n",
       "  <thead>\n",
       "    <tr style=\"text-align: right;\">\n",
       "      <th></th>\n",
       "      <th>MedInc</th>\n",
       "      <th>HouseAge</th>\n",
       "      <th>AveRooms</th>\n",
       "      <th>AveBedrms</th>\n",
       "      <th>Population</th>\n",
       "      <th>AveOccup</th>\n",
       "      <th>Latitude</th>\n",
       "      <th>Longitude</th>\n",
       "    </tr>\n",
       "  </thead>\n",
       "  <tbody>\n",
       "    <tr>\n",
       "      <th>0</th>\n",
       "      <td>NaN</td>\n",
       "      <td>22.926250</td>\n",
       "      <td>2.009750</td>\n",
       "      <td>-0.368708</td>\n",
       "      <td>12.678842</td>\n",
       "      <td>0.629671</td>\n",
       "      <td>2.382452</td>\n",
       "      <td>1.135710</td>\n",
       "    </tr>\n",
       "    <tr>\n",
       "      <th>1</th>\n",
       "      <td>2.922212</td>\n",
       "      <td>12.595914</td>\n",
       "      <td>1.852446</td>\n",
       "      <td>-0.446124</td>\n",
       "      <td>23.393200</td>\n",
       "      <td>0.351227</td>\n",
       "      <td>2.375144</td>\n",
       "      <td>1.145962</td>\n",
       "    </tr>\n",
       "    <tr>\n",
       "      <th>2</th>\n",
       "      <td>2.648526</td>\n",
       "      <td>28.142958</td>\n",
       "      <td>2.247819</td>\n",
       "      <td>-0.299848</td>\n",
       "      <td>14.565328</td>\n",
       "      <td>0.757259</td>\n",
       "      <td>2.371483</td>\n",
       "      <td>1.125461</td>\n",
       "    </tr>\n",
       "    <tr>\n",
       "      <th>3</th>\n",
       "      <td>2.162422</td>\n",
       "      <td>28.142958</td>\n",
       "      <td>1.754957</td>\n",
       "      <td>-0.300368</td>\n",
       "      <td>15.114474</td>\n",
       "      <td>0.625482</td>\n",
       "      <td>2.371483</td>\n",
       "      <td>1.115213</td>\n",
       "    </tr>\n",
       "  </tbody>\n",
       "</table>\n",
       "</div>"
      ],
      "text/plain": [
       "     MedInc   HouseAge  AveRooms  AveBedrms  Population  AveOccup  Latitude  \\\n",
       "0       NaN  22.926250  2.009750  -0.368708   12.678842  0.629671  2.382452   \n",
       "1  2.922212  12.595914  1.852446  -0.446124   23.393200  0.351227  2.375144   \n",
       "2  2.648526  28.142958  2.247819  -0.299848   14.565328  0.757259  2.371483   \n",
       "3  2.162422  28.142958  1.754957  -0.300368   15.114474  0.625482  2.371483   \n",
       "\n",
       "   Longitude  \n",
       "0   1.135710  \n",
       "1   1.145962  \n",
       "2   1.125461  \n",
       "3   1.115213  "
      ]
     },
     "metadata": {},
     "output_type": "display_data"
    },
    {
     "data": {
      "text/plain": [
       "MedInc        float64\n",
       "HouseAge      float64\n",
       "AveRooms      float64\n",
       "AveBedrms     float64\n",
       "Population    float64\n",
       "AveOccup      float64\n",
       "Latitude      float64\n",
       "Longitude     float64\n",
       "dtype: object"
      ]
     },
     "metadata": {},
     "output_type": "display_data"
    },
    {
     "data": {
      "text/plain": [
       "(20640, 8)"
      ]
     },
     "metadata": {},
     "output_type": "display_data"
    },
    {
     "data": {
      "text/plain": [
       "True"
      ]
     },
     "metadata": {},
     "output_type": "display_data"
    }
   ],
   "source": [
    "x1 = x.copy()\n",
    "x1.iloc[0, 0] = None\n",
    "showDF(x1)\n",
    "display(x1.isnull().values.any()) # isnull: replace all cells with False/True, values: narray, any: any cell == True"
   ]
  },
  {
   "cell_type": "code",
   "execution_count": 63,
   "metadata": {},
   "outputs": [
    {
     "data": {
      "text/html": [
       "<div>\n",
       "<style>\n",
       "    .dataframe thead tr:only-child th {\n",
       "        text-align: right;\n",
       "    }\n",
       "\n",
       "    .dataframe thead th {\n",
       "        text-align: left;\n",
       "    }\n",
       "\n",
       "    .dataframe tbody tr th {\n",
       "        vertical-align: top;\n",
       "    }\n",
       "</style>\n",
       "<table border=\"1\" class=\"dataframe\">\n",
       "  <thead>\n",
       "    <tr style=\"text-align: right;\">\n",
       "      <th></th>\n",
       "      <th>MedInc</th>\n",
       "      <th>HouseAge</th>\n",
       "      <th>AveRooms</th>\n",
       "      <th>AveBedrms</th>\n",
       "      <th>Population</th>\n",
       "      <th>AveOccup</th>\n",
       "      <th>Latitude</th>\n",
       "      <th>Longitude</th>\n",
       "    </tr>\n",
       "  </thead>\n",
       "  <tbody>\n",
       "    <tr>\n",
       "      <th>0</th>\n",
       "      <td>1.973032</td>\n",
       "      <td>0.973907</td>\n",
       "      <td>1.050289</td>\n",
       "      <td>-0.274508</td>\n",
       "      <td>-1.611478</td>\n",
       "      <td>-0.350862</td>\n",
       "      <td>1.044085</td>\n",
       "      <td>-1.325659</td>\n",
       "    </tr>\n",
       "    <tr>\n",
       "      <th>1</th>\n",
       "      <td>1.965637</td>\n",
       "      <td>-0.562614</td>\n",
       "      <td>0.654056</td>\n",
       "      <td>-0.617175</td>\n",
       "      <td>1.089104</td>\n",
       "      <td>-1.092135</td>\n",
       "      <td>1.037835</td>\n",
       "      <td>-1.320779</td>\n",
       "    </tr>\n",
       "    <tr>\n",
       "      <th>2</th>\n",
       "      <td>1.625091</td>\n",
       "      <td>1.749833</td>\n",
       "      <td>1.649967</td>\n",
       "      <td>0.030290</td>\n",
       "      <td>-1.135984</td>\n",
       "      <td>-0.011196</td>\n",
       "      <td>1.034705</td>\n",
       "      <td>-1.330538</td>\n",
       "    </tr>\n",
       "    <tr>\n",
       "      <th>3</th>\n",
       "      <td>1.020234</td>\n",
       "      <td>1.749833</td>\n",
       "      <td>0.408488</td>\n",
       "      <td>0.027992</td>\n",
       "      <td>-0.997570</td>\n",
       "      <td>-0.362015</td>\n",
       "      <td>1.034705</td>\n",
       "      <td>-1.335417</td>\n",
       "    </tr>\n",
       "  </tbody>\n",
       "</table>\n",
       "</div>"
      ],
      "text/plain": [
       "     MedInc  HouseAge  AveRooms  AveBedrms  Population  AveOccup  Latitude  \\\n",
       "0  1.973032  0.973907  1.050289  -0.274508   -1.611478 -0.350862  1.044085   \n",
       "1  1.965637 -0.562614  0.654056  -0.617175    1.089104 -1.092135  1.037835   \n",
       "2  1.625091  1.749833  1.649967   0.030290   -1.135984 -0.011196  1.034705   \n",
       "3  1.020234  1.749833  0.408488   0.027992   -0.997570 -0.362015  1.034705   \n",
       "\n",
       "   Longitude  \n",
       "0  -1.325659  \n",
       "1  -1.320779  \n",
       "2  -1.330538  \n",
       "3  -1.335417  "
      ]
     },
     "metadata": {},
     "output_type": "display_data"
    },
    {
     "data": {
      "text/plain": [
       "MedInc        float64\n",
       "HouseAge      float64\n",
       "AveRooms      float64\n",
       "AveBedrms     float64\n",
       "Population    float64\n",
       "AveOccup      float64\n",
       "Latitude      float64\n",
       "Longitude     float64\n",
       "dtype: object"
      ]
     },
     "metadata": {},
     "output_type": "display_data"
    },
    {
     "data": {
      "text/plain": [
       "(20640, 8)"
      ]
     },
     "metadata": {},
     "output_type": "display_data"
    },
    {
     "name": "stdout",
     "output_type": "stream",
     "text": [
      "[array([0.32505786]), array([0.80443763]), array([0.11079528]), array([0.02414263]), array([0.24502036]), array([0.03763226]), array([0.3983832]), array([1.03290346])]\n"
     ]
    }
   ],
   "source": [
    "from sklearn.pipeline import Pipeline\n",
    "\n",
    "pipeline = Pipeline([\n",
    "    ('dfarray', DataFrameToNArray()),\n",
    "    ('boxcox', BoxCoxTransformer()),\n",
    "    ('std_scaler', StandardScaler())\n",
    "])\n",
    "x2 = pipeline.fit_transform(housing)\n",
    "lmbdas = pipeline.steps[1][1].lmbdas\n",
    "showDF(pd.DataFrame(x2, columns=housing.columns))\n",
    "print(lmbdas)"
   ]
  },
  {
   "cell_type": "code",
   "execution_count": 71,
   "metadata": {},
   "outputs": [
    {
     "data": {
      "text/html": [
       "<div>\n",
       "<style>\n",
       "    .dataframe thead tr:only-child th {\n",
       "        text-align: right;\n",
       "    }\n",
       "\n",
       "    .dataframe thead th {\n",
       "        text-align: left;\n",
       "    }\n",
       "\n",
       "    .dataframe tbody tr th {\n",
       "        vertical-align: top;\n",
       "    }\n",
       "</style>\n",
       "<table border=\"1\" class=\"dataframe\">\n",
       "  <thead>\n",
       "    <tr style=\"text-align: right;\">\n",
       "      <th></th>\n",
       "      <th>Latitude</th>\n",
       "      <th>Longitude</th>\n",
       "    </tr>\n",
       "  </thead>\n",
       "  <tbody>\n",
       "    <tr>\n",
       "      <th>0</th>\n",
       "      <td>5.34001</td>\n",
       "      <td>2.12001</td>\n",
       "    </tr>\n",
       "    <tr>\n",
       "      <th>1</th>\n",
       "      <td>5.32001</td>\n",
       "      <td>2.13001</td>\n",
       "    </tr>\n",
       "    <tr>\n",
       "      <th>2</th>\n",
       "      <td>5.31001</td>\n",
       "      <td>2.11001</td>\n",
       "    </tr>\n",
       "    <tr>\n",
       "      <th>3</th>\n",
       "      <td>5.31001</td>\n",
       "      <td>2.10001</td>\n",
       "    </tr>\n",
       "  </tbody>\n",
       "</table>\n",
       "</div>"
      ],
      "text/plain": [
       "   Latitude  Longitude\n",
       "0   5.34001    2.12001\n",
       "1   5.32001    2.13001\n",
       "2   5.31001    2.11001\n",
       "3   5.31001    2.10001"
      ]
     },
     "metadata": {},
     "output_type": "display_data"
    },
    {
     "data": {
      "text/plain": [
       "Latitude     float64\n",
       "Longitude    float64\n",
       "dtype: object"
      ]
     },
     "metadata": {},
     "output_type": "display_data"
    },
    {
     "data": {
      "text/plain": [
       "(20640, 2)"
      ]
     },
     "metadata": {},
     "output_type": "display_data"
    },
    {
     "name": "stdout",
     "output_type": "stream",
     "text": [
      "Original:\n"
     ]
    },
    {
     "data": {
      "text/html": [
       "<div>\n",
       "<style>\n",
       "    .dataframe thead tr:only-child th {\n",
       "        text-align: right;\n",
       "    }\n",
       "\n",
       "    .dataframe thead th {\n",
       "        text-align: left;\n",
       "    }\n",
       "\n",
       "    .dataframe tbody tr th {\n",
       "        vertical-align: top;\n",
       "    }\n",
       "</style>\n",
       "<table border=\"1\" class=\"dataframe\">\n",
       "  <thead>\n",
       "    <tr style=\"text-align: right;\">\n",
       "      <th></th>\n",
       "      <th>MedInc</th>\n",
       "      <th>HouseAge</th>\n",
       "      <th>AveRooms</th>\n",
       "      <th>AveBedrms</th>\n",
       "      <th>Population</th>\n",
       "      <th>AveOccup</th>\n",
       "      <th>Latitude</th>\n",
       "      <th>Longitude</th>\n",
       "    </tr>\n",
       "  </thead>\n",
       "  <tbody>\n",
       "    <tr>\n",
       "      <th>0</th>\n",
       "      <td>7.82531</td>\n",
       "      <td>40.00001</td>\n",
       "      <td>6.137983</td>\n",
       "      <td>0.690486</td>\n",
       "      <td>319.00001</td>\n",
       "      <td>1.863258</td>\n",
       "      <td>5.34001</td>\n",
       "      <td>2.12001</td>\n",
       "    </tr>\n",
       "    <tr>\n",
       "      <th>1</th>\n",
       "      <td>7.80151</td>\n",
       "      <td>20.00001</td>\n",
       "      <td>5.391993</td>\n",
       "      <td>0.638557</td>\n",
       "      <td>2398.00001</td>\n",
       "      <td>1.417544</td>\n",
       "      <td>5.32001</td>\n",
       "      <td>2.13001</td>\n",
       "    </tr>\n",
       "    <tr>\n",
       "      <th>2</th>\n",
       "      <td>6.75751</td>\n",
       "      <td>51.00001</td>\n",
       "      <td>7.441992</td>\n",
       "      <td>0.740123</td>\n",
       "      <td>493.00001</td>\n",
       "      <td>2.109962</td>\n",
       "      <td>5.31001</td>\n",
       "      <td>2.11001</td>\n",
       "    </tr>\n",
       "    <tr>\n",
       "      <th>3</th>\n",
       "      <td>5.14321</td>\n",
       "      <td>51.00001</td>\n",
       "      <td>4.971208</td>\n",
       "      <td>0.739736</td>\n",
       "      <td>555.00001</td>\n",
       "      <td>1.855648</td>\n",
       "      <td>5.31001</td>\n",
       "      <td>2.10001</td>\n",
       "    </tr>\n",
       "  </tbody>\n",
       "</table>\n",
       "</div>"
      ],
      "text/plain": [
       "    MedInc  HouseAge  AveRooms  AveBedrms  Population  AveOccup  Latitude  \\\n",
       "0  7.82531  40.00001  6.137983   0.690486   319.00001  1.863258   5.34001   \n",
       "1  7.80151  20.00001  5.391993   0.638557  2398.00001  1.417544   5.32001   \n",
       "2  6.75751  51.00001  7.441992   0.740123   493.00001  2.109962   5.31001   \n",
       "3  5.14321  51.00001  4.971208   0.739736   555.00001  1.855648   5.31001   \n",
       "\n",
       "   Longitude  \n",
       "0    2.12001  \n",
       "1    2.13001  \n",
       "2    2.11001  \n",
       "3    2.10001  "
      ]
     },
     "metadata": {},
     "output_type": "display_data"
    },
    {
     "data": {
      "text/plain": [
       "MedInc        float64\n",
       "HouseAge      float64\n",
       "AveRooms      float64\n",
       "AveBedrms     float64\n",
       "Population    float64\n",
       "AveOccup      float64\n",
       "Latitude      float64\n",
       "Longitude     float64\n",
       "dtype: object"
      ]
     },
     "metadata": {},
     "output_type": "display_data"
    },
    {
     "data": {
      "text/plain": [
       "(20640, 8)"
      ]
     },
     "metadata": {},
     "output_type": "display_data"
    }
   ],
   "source": [
    "cols = ['Latitude', 'Longitude']\n",
    "pipe2 = Pipeline([\n",
    "    (\"dfnumeric\", DataFrameNumericColumns()), \n",
    "    ('dfcols', DataFrameColumnSelector(cols)), \n",
    "    ('dfarray', DataFrameToNArray())])\n",
    "x2 = pipe2.fit_transform(housing)\n",
    "showDF(pd.DataFrame(x2, columns=cols))\n",
    "print('Original:')\n",
    "showDF(housing)"
   ]
  },
  {
   "cell_type": "code",
   "execution_count": null,
   "metadata": {
    "collapsed": true
   },
   "outputs": [],
   "source": []
  }
 ],
 "metadata": {
  "kernelspec": {
   "display_name": "Python 3",
   "language": "python",
   "name": "python3"
  },
  "language_info": {
   "codemirror_mode": {
    "name": "ipython",
    "version": 3
   },
   "file_extension": ".py",
   "mimetype": "text/x-python",
   "name": "python",
   "nbconvert_exporter": "python",
   "pygments_lexer": "ipython3",
   "version": "3.6.3"
  }
 },
 "nbformat": 4,
 "nbformat_minor": 2
}
